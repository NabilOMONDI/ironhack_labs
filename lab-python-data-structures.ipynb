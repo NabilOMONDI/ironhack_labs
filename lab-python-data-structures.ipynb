{
 "cells": [
  {
   "cell_type": "markdown",
   "metadata": {
    "tags": []
   },
   "source": [
    "# Lab | Data Structures "
   ]
  },
  {
   "cell_type": "markdown",
   "metadata": {},
   "source": [
    "## Exercise: Managing Customer Orders\n",
    "\n",
    "As part of a business venture, you are starting an online store that sells various products. To ensure smooth operations, you need to develop a program that manages customer orders and inventory.\n",
    "\n",
    "Follow the steps below to complete the exercise:\n",
    "\n",
    "1. Define a list called `products` that contains the following items: \"t-shirt\", \"mug\", \"hat\", \"book\", \"keychain\".\n",
    "\n",
    "2. Create an empty dictionary called `inventory`.\n",
    "\n",
    "3. Ask the user to input the quantity of each product available in the inventory. Use the product names from the `products` list as keys in the `inventory` dictionary and assign the respective quantities as values.\n",
    "\n",
    "4. Create an empty set called `customer_orders`.\n",
    "\n",
    "5. Ask the user to input the name of three products that a customer wants to order (from those in the products list, meaning three products out of \"t-shirt\", \"mug\", \"hat\", \"book\" or \"keychain\". Add each product name to the `customer_orders` set.\n",
    "\n",
    "6. Print the products in the `customer_orders` set.\n",
    "\n",
    "7. Calculate the following order statistics:\n",
    "   - Total Products Ordered: The total number of products in the `customer_orders` set.\n",
    "   - Percentage of Products Ordered: The percentage of products ordered compared to the total available products.\n",
    "   \n",
    "   Store these statistics in a tuple called `order_status`.\n",
    "\n",
    "8. Print the order statistics using the following format:\n",
    "   ```\n",
    "   Order Statistics:\n",
    "   Total Products Ordered: <total_products_ordered>\n",
    "   Percentage of Products Ordered: <percentage_ordered>% \n",
    "   ```\n",
    "\n",
    "9. Update the inventory by subtracting 1 from the quantity of each product. Modify the `inventory` dictionary accordingly.\n",
    "\n",
    "10. Print the updated inventory, displaying the quantity of each product on separate lines.\n",
    "\n",
    "Solve the exercise by implementing the steps using the Python concepts of lists, dictionaries, sets, and basic input/output operations. "
   ]
  },
  {
   "cell_type": "code",
   "execution_count": 2,
   "metadata": {},
   "outputs": [
    {
     "name": "stdout",
     "output_type": "stream",
     "text": [
      "['t-shirt', 'mug', 'hat', 'book', 'keychain']\n"
     ]
    }
   ],
   "source": [
    "# step 1\n",
    "products=[ \"t-shirt\", \"mug\", \"hat\", \"book\", \"keychain\"]\n",
    "print(products)"
   ]
  },
  {
   "cell_type": "code",
   "execution_count": 13,
   "metadata": {},
   "outputs": [
    {
     "name": "stdout",
     "output_type": "stream",
     "text": [
      "{'t-shirt': 2, 'mug': 3, 'hat': 4, 'book': 5, 'key-chain': 6}\n"
     ]
    }
   ],
   "source": [
    "#step 2a\n",
    "inventory={}\n",
    "#step 3\n",
    "quantity=int(input(\"please input the number of t-shirts\"))\n",
    "inventory[\"t-shirt\"]=quantity\n",
    "quantity=int(input(\"please input the number of mugs\"))\n",
    "inventory[\"mug\"]=quantity\n",
    "quantity=int(input(\"please input the number of hats\"))\n",
    "inventory[\"hat\"]=quantity\n",
    "quantity=int(input(\"please input the number of books\"))\n",
    "inventory[\"book\"]=quantity\n",
    "quantity=int(input(\"please input the number of key-chains\"))\n",
    "inventory[\"key-chain\"]=quantity\n",
    "\n",
    "print(inventory)"
   ]
  },
  {
   "cell_type": "code",
   "execution_count": 19,
   "metadata": {},
   "outputs": [
    {
     "name": "stdout",
     "output_type": "stream",
     "text": [
      "{'hat', 'book', 'mug'}\n"
     ]
    }
   ],
   "source": [
    "#4 creating a set for customer orders \n",
    "customer_orders=set()\n",
    "#  customer in put of items zishing to order \n",
    "product= input(\"Please enter the product the customer wants to order\")\n",
    "customer_orders.add(product)\n",
    "product= input(\"Please enter the product the customer wants to order\")\n",
    "customer_orders.add(product)\n",
    "product= input(\"Please enter the product the customer wants to order\")\n",
    "customer_orders.add(product)\n",
    "\n",
    "print(customer_orders)\n"
   ]
  },
  {
   "cell_type": "code",
   "execution_count": 25,
   "metadata": {},
   "outputs": [
    {
     "name": "stdout",
     "output_type": "stream",
     "text": [
      "order statistics\n",
      "-------------------------------\n",
      "Total product inventory is 5\n",
      "Total product orders is 3\n",
      "percentage of products ordered is 60.0\n"
     ]
    }
   ],
   "source": [
    "# step 7\n",
    "total_products_ordered=len(customer_orders)\n",
    "total_products_inventory=len(products)\n",
    "\n",
    "\n",
    "percentage_of_products_ordered=(total_products_ordered/total_products_inventory)*100\n",
    "\n",
    "#8\n",
    "print(\"order statistics\")\n",
    "print(\"-------------------------------\")\n",
    "print(f\"Total product inventory is {total_products_inventory}\")\n",
    "print(f\"Total product orders is {total_products_ordered}\")\n",
    "print(f\"percentage of products ordered is {percentage_of_products_ordered}\")"
   ]
  },
  {
   "cell_type": "code",
   "execution_count": 27,
   "metadata": {},
   "outputs": [
    {
     "name": "stdout",
     "output_type": "stream",
     "text": [
      "Updated Inventory:\n",
      "t-shirt: 2\n",
      "mug: 1\n",
      "hat: 2\n",
      "book: 3\n",
      "key-chain: 6\n"
     ]
    }
   ],
   "source": [
    "#step 9\n",
    "inventory[\"mug\"] -= 1\n",
    "inventory[\"hat\"] -= 1\n",
    "inventory[\"book\"] -= 1\n",
    "\n",
    "#update inventory \n",
    "print(\"Updated Inventory:\")\n",
    "print(\"t-shirt:\", inventory[\"t-shirt\"])\n",
    "print(\"mug:\", inventory[\"mug\"])\n",
    "print(\"hat:\", inventory[\"hat\"])\n",
    "print(\"book:\", inventory[\"book\"])\n",
    "print(\"key-chain:\", inventory[\"key-chain\"])"
   ]
  },
  {
   "cell_type": "code",
   "execution_count": null,
   "metadata": {},
   "outputs": [],
   "source": []
  }
 ],
 "metadata": {
  "kernelspec": {
   "display_name": "Python 3 (ipykernel)",
   "language": "python",
   "name": "python3"
  },
  "language_info": {
   "codemirror_mode": {
    "name": "ipython",
    "version": 3
   },
   "file_extension": ".py",
   "mimetype": "text/x-python",
   "name": "python",
   "nbconvert_exporter": "python",
   "pygments_lexer": "ipython3",
   "version": "3.11.7"
  }
 },
 "nbformat": 4,
 "nbformat_minor": 4
}
